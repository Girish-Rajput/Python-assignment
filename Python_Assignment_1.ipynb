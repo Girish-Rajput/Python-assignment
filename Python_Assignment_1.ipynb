{
  "nbformat": 4,
  "nbformat_minor": 0,
  "metadata": {
    "colab": {
      "provenance": []
    },
    "kernelspec": {
      "name": "python3",
      "display_name": "Python 3"
    },
    "language_info": {
      "name": "python"
    }
  },
  "cells": [
    {
      "cell_type": "markdown",
      "source": [
        "   # python assignment-1\n",
        "\n",
        "1. What is Python, and why is it popular?\n",
        "  - Python is a high level interpreted programming  language known for its simple syntax and readability.\n",
        "  It is popular because, it is easy to learn,versatile and has a large community with extensive libraries for tasks like web development, data analysis, machine learning, automation and many more.\n",
        "\n",
        "2. What is an interpreter in Python?\n",
        "  - An interpreter in python is program that reads and executes python code line by line. Instead of compiling the entire code into machine language at once like compiler which makes easier to test and debug program quickly.\n",
        "\n",
        "3. What are pre-defined keywords in Python?\n",
        "  - They are reserved words that have special meaning and they are part of the language syntax. They cannot used as variable name and identifiers.\n",
        "\n",
        "4. Can keywords be used as variable names?\n",
        "  - No, keywords cannot be used as variable names in python as they are reserved words  that have special meaning.\n",
        "5. What is mutability in Python ?\n",
        "  - Mutability in python refers to whether an object's value can be changed after it is created.\n",
        "\n",
        "  datatypes that are mutable- (list , dict , set).\n",
        "\n",
        "  datatypes that are immutable- (Tuple, int , float, str).\n",
        "\n",
        "6. Why are lists mutable, but tuples are immutable ?\n",
        "  - Lists-\n",
        "\n",
        "  . designed for collections that may change(add,remove,or modify) elements.\n",
        "\n",
        "  . used for working with dynamic data.\n",
        "\n",
        " -  Tuples-\n",
        "\n",
        "  . intended for fixed or constant data collection.\n",
        "\n",
        "  . helps to protect data from being accidently modified.\n",
        "\n",
        "7.  What is the difference between “==” and “is” operators in Python ?\n",
        "  - The '==' operator checks if two objects hold the same data or value while 'is' operator checks if they are the exact same objects.\n",
        "8. What are logical operators in Python ?\n",
        "  - Logical operator in python are used to combine the conditional statements\n",
        "\n",
        "  There are three logical operators-\n",
        "  \n",
        "  (1) and- return true if both condition are true\n",
        "\n",
        "  (2) or- return true if one of them is true\n",
        "\n",
        "  (3) not- Reverse the result\n",
        "\n",
        "9. What is type casting in Python ?\n",
        "  - Type casting in python is the process to convert a value from one  \n",
        "    data type to another.\n",
        "\n",
        "    int()\n",
        "\n",
        "    float()\n",
        "\n",
        "    str()\n",
        "\n",
        "    bool()\n",
        "\n",
        "10. What is the difference between implicit and explicit type casting ?\n",
        "  - Implicit type conversion done automatically by python, happens when converting a smaller type to a larger type.\n",
        "\n",
        "  - Explicit type conversion done by the programmer forcefully using functions\n",
        "\n",
        "11. What is the purpose of conditional statements in Python ?\n",
        "  - The purpose of the conditional statement in python is to control the flow of a program by making decisions based in conditions.\n",
        "  It allows the program to execute certain blocks of code only if specific conditions are true.\n",
        "\n",
        "12. How does the elif statement work ?\n",
        "  - python first evaluate 'if' condition -   \n",
        "\n",
        "    If the 'if' is True then execute the block of code\n",
        "\n",
        "    If the 'if' is False then move to 'elif' and checks each of them\n",
        "\n",
        "    If the 'elif' is True then execute the block of code\n",
        "\n",
        "    If no coneition is TRUE then execute the else block.\n",
        "\n",
        "13. What is the difference between for and while loops ?\n",
        "  - for loop -\n",
        "  \n",
        "    used when you know in advance, how many times you want to loop.\n",
        "   \n",
        "    It iterate over a sequence like a list, string.\n",
        "\n",
        "  - while loop -\n",
        "\n",
        "    used when you don't kow in advance , how many times you want to loop.\n",
        "\n",
        "    Keeps looping asa long as a condition is False.\n",
        "\n",
        "14. Describe a scenario where a while loop is more suitable than a for loop.\n",
        "\n",
        "  - when you don't kow in advance , how many times the loop will be executed.\n"
      ],
      "metadata": {
        "id": "4dVHjXzouxFR"
      }
    },
    {
      "cell_type": "markdown",
      "source": [],
      "metadata": {
        "id": "QINaSmHVV9jk"
      }
    },
    {
      "cell_type": "code",
      "execution_count": 2,
      "metadata": {
        "colab": {
          "base_uri": "https://localhost:8080/"
        },
        "id": "gD6wWxgjulWI",
        "outputId": "d65855c9-06fd-4168-c126-ce004a28a890"
      },
      "outputs": [
        {
          "output_type": "stream",
          "name": "stdout",
          "text": [
            "Hello, World!\n"
          ]
        }
      ],
      "source": [
        "# Write a Python program to print \"Hello, World!\n",
        "print(\"Hello, World!\");"
      ]
    },
    {
      "cell_type": "code",
      "source": [
        "# Write a Python program that displays your name and age\n",
        "name = input(\"Enter the name : \");\n",
        "age  = input(\"Enter the age : \");\n",
        "print(\"hii, my name is \" +name+ \" and my age is \" + age );"
      ],
      "metadata": {
        "colab": {
          "base_uri": "https://localhost:8080/"
        },
        "id": "xj-NwEe5cXV9",
        "outputId": "51bd1baf-f5f2-40ac-830b-0fb7674d68ee"
      },
      "execution_count": 6,
      "outputs": [
        {
          "output_type": "stream",
          "name": "stdout",
          "text": [
            "Enter the name : Girish kumar\n",
            "Enter the age : 21\n",
            "hii, my name is Girish kumar and age is 21\n"
          ]
        }
      ]
    },
    {
      "cell_type": "code",
      "source": [
        "# Write code to print all the pre-defined keywords in Python using the keyword library\n",
        "\n",
        "import keyword\n",
        "\n",
        "print(\"The list of keywords is : \")\n",
        "print(keyword.kwlist)"
      ],
      "metadata": {
        "colab": {
          "base_uri": "https://localhost:8080/"
        },
        "id": "YpsEEEF7c8BP",
        "outputId": "c94cc9d8-077c-484d-984c-eb4a5378c498"
      },
      "execution_count": 9,
      "outputs": [
        {
          "output_type": "stream",
          "name": "stdout",
          "text": [
            "The list of keywords is : \n",
            "['False', 'None', 'True', 'and', 'as', 'assert', 'async', 'await', 'break', 'class', 'continue', 'def', 'del', 'elif', 'else', 'except', 'finally', 'for', 'from', 'global', 'if', 'import', 'in', 'is', 'lambda', 'nonlocal', 'not', 'or', 'pass', 'raise', 'return', 'try', 'while', 'with', 'yield']\n"
          ]
        }
      ]
    },
    {
      "cell_type": "code",
      "source": [
        "# Write a program that checks if a given word is a Python keyword.\n",
        "\n",
        "import keyword\n",
        "\n",
        "s = 'if'\n",
        "if keyword.iskeyword(s):\n",
        "    print(f\"'{s}' is a Python keyword.\")\n",
        "else:\n",
        "    print(f\"'{s}' is not a Python keyword.\")"
      ],
      "metadata": {
        "colab": {
          "base_uri": "https://localhost:8080/"
        },
        "id": "KItogqRyfYAs",
        "outputId": "f89fa9e7-1102-44c2-c9ee-7acde708549b"
      },
      "execution_count": 12,
      "outputs": [
        {
          "output_type": "stream",
          "name": "stdout",
          "text": [
            "'if' is a Python keyword.\n"
          ]
        }
      ]
    },
    {
      "cell_type": "code",
      "source": [
        "#  Create a list and tuple in Python, and demonstrate how attempting to change an element works differently for each.\n",
        "\n",
        "# lists are mutable\n",
        "list_1 = [1 ,3 ,5,6, \"Girish kumar\", 3+4j];\n",
        "list_1.append(8)\n",
        "print(list_1);\n",
        "\n",
        "#  tuples are immutable\n",
        "tuple_1 = (1,3,5,7,\"Girish kumar\")\n",
        "tuple_1[4] = 9\n",
        "print(tuple_1)\n",
        "\n"
      ],
      "metadata": {
        "colab": {
          "base_uri": "https://localhost:8080/",
          "height": 228
        },
        "id": "5B22GlqjgxlI",
        "outputId": "1d03f963-bd4a-47c7-c3a1-b6fde9c005b3"
      },
      "execution_count": 24,
      "outputs": [
        {
          "output_type": "stream",
          "name": "stdout",
          "text": [
            "[1, 3, 5, 6, 'Girish kumar', (3+4j), 8]\n"
          ]
        },
        {
          "output_type": "error",
          "ename": "TypeError",
          "evalue": "'tuple' object does not support item assignment",
          "traceback": [
            "\u001b[0;31m---------------------------------------------------------------------------\u001b[0m",
            "\u001b[0;31mTypeError\u001b[0m                                 Traceback (most recent call last)",
            "\u001b[0;32m<ipython-input-24-bbec74fef87b>\u001b[0m in \u001b[0;36m<cell line: 0>\u001b[0;34m()\u001b[0m\n\u001b[1;32m      8\u001b[0m \u001b[0;31m#  tuples are immutable\u001b[0m\u001b[0;34m\u001b[0m\u001b[0;34m\u001b[0m\u001b[0m\n\u001b[1;32m      9\u001b[0m \u001b[0mtuple_1\u001b[0m \u001b[0;34m=\u001b[0m \u001b[0;34m(\u001b[0m\u001b[0;36m1\u001b[0m\u001b[0;34m,\u001b[0m\u001b[0;36m3\u001b[0m\u001b[0;34m,\u001b[0m\u001b[0;36m5\u001b[0m\u001b[0;34m,\u001b[0m\u001b[0;36m7\u001b[0m\u001b[0;34m,\u001b[0m\u001b[0;34m\"Girish kumar\"\u001b[0m\u001b[0;34m)\u001b[0m\u001b[0;34m\u001b[0m\u001b[0;34m\u001b[0m\u001b[0m\n\u001b[0;32m---> 10\u001b[0;31m \u001b[0mtuple_1\u001b[0m\u001b[0;34m[\u001b[0m\u001b[0;36m4\u001b[0m\u001b[0;34m]\u001b[0m \u001b[0;34m=\u001b[0m \u001b[0;36m9\u001b[0m\u001b[0;34m\u001b[0m\u001b[0;34m\u001b[0m\u001b[0m\n\u001b[0m\u001b[1;32m     11\u001b[0m \u001b[0mprint\u001b[0m\u001b[0;34m(\u001b[0m\u001b[0mtuple_1\u001b[0m\u001b[0;34m)\u001b[0m\u001b[0;34m\u001b[0m\u001b[0;34m\u001b[0m\u001b[0m\n\u001b[1;32m     12\u001b[0m \u001b[0;34m\u001b[0m\u001b[0m\n",
            "\u001b[0;31mTypeError\u001b[0m: 'tuple' object does not support item assignment"
          ]
        }
      ]
    },
    {
      "cell_type": "code",
      "source": [
        "# Write a function to demonstrate the behavior of mutable and immutable arguments.\n",
        "my_list = [1, 2, 3]\n",
        "my_list.append(4)\n",
        "print(my_list)\n",
        "\n",
        "my_list.insert(1, 5)\n",
        "print(my_list)\n",
        "\n",
        "my_list.remove(2)\n",
        "print(my_list)\n",
        "\n",
        "popped_element = my_list.pop(0)\n",
        "print(my_list)\n",
        "print(popped_element)"
      ],
      "metadata": {
        "colab": {
          "base_uri": "https://localhost:8080/"
        },
        "id": "vhhN8b9bqur6",
        "outputId": "2cbc5568-3937-4720-ecc5-a7445821ebb1"
      },
      "execution_count": 25,
      "outputs": [
        {
          "output_type": "stream",
          "name": "stdout",
          "text": [
            "[1, 2, 3, 4]\n",
            "[1, 5, 2, 3, 4]\n",
            "[1, 5, 3, 4]\n",
            "[5, 3, 4]\n",
            "1\n"
          ]
        }
      ]
    },
    {
      "cell_type": "code",
      "source": [
        "# Write a program that performs basic arithmetic operations on two user-input numbers.\n",
        "a = 5\n",
        "b = 6\n",
        "\n",
        "sum = a +b;\n",
        "sub = b-a;\n",
        "mul = a*b;\n",
        "div = b/a;\n",
        "\n",
        "print(sum);\n",
        "print(sub);\n",
        "print(mul);\n",
        "print(div);"
      ],
      "metadata": {
        "colab": {
          "base_uri": "https://localhost:8080/"
        },
        "id": "IOjqEs6_tRkb",
        "outputId": "9a433435-a1ad-47d3-d695-2390a891d2f2"
      },
      "execution_count": 30,
      "outputs": [
        {
          "output_type": "stream",
          "name": "stdout",
          "text": [
            "11\n",
            "1\n",
            "30\n",
            "1\n"
          ]
        }
      ]
    },
    {
      "cell_type": "code",
      "source": [
        "# Write a program to demonstrate the use of logical operators.\n",
        "a = 8;\n",
        "b = 2;\n",
        "c = 8;\n",
        "c == a;\n",
        "if (a != b) and  (c == a):\n",
        "  print(\"True\");\n",
        "else:\n",
        "  print(\"False\");\n",
        "\n",
        "# \"This one is for or operator\"\n",
        "\n",
        "if (a == b) or  (c == a):\n",
        "  print(\"True\");\n",
        "else:\n",
        "  print(\"False\");\n",
        "\n",
        ""
      ],
      "metadata": {
        "colab": {
          "base_uri": "https://localhost:8080/"
        },
        "id": "n8ka_y7PuLZe",
        "outputId": "77fd2f17-af8c-485e-965b-b8c0e8155dca"
      },
      "execution_count": 37,
      "outputs": [
        {
          "output_type": "stream",
          "name": "stdout",
          "text": [
            "True\n",
            "True\n"
          ]
        }
      ]
    },
    {
      "cell_type": "code",
      "source": [
        "#  Write a Python program to convert user input from string to integer, float, and boolean types\n",
        "a = \"45\"\n",
        "int(a)\n",
        "# string to float\n",
        "b =\"33\"\n",
        "float(b)\n",
        "\n",
        "c = \"Girish kumar\"\n",
        "bool(c)\n"
      ],
      "metadata": {
        "colab": {
          "base_uri": "https://localhost:8080/"
        },
        "id": "9bBglkysvQOA",
        "outputId": "408d61bd-88cb-4632-86a2-4c3b2f9e4ecd"
      },
      "execution_count": 44,
      "outputs": [
        {
          "output_type": "execute_result",
          "data": {
            "text/plain": [
              "True"
            ]
          },
          "metadata": {},
          "execution_count": 44
        }
      ]
    },
    {
      "cell_type": "code",
      "source": [
        "#  Write code to demonstrate type casting with list elements.\n",
        "\n",
        "list_1 = [1,4,6,7,8,\"pwskills\",\"batch2025\"]\n",
        "list_1[3] = float(5)\n",
        "list_1[6] = int(\"30\")\n",
        "print(list_1)"
      ],
      "metadata": {
        "colab": {
          "base_uri": "https://localhost:8080/"
        },
        "id": "E4tZZzArxwjW",
        "outputId": "8f3ee102-7d75-4ea4-8e74-4078b4b5d379"
      },
      "execution_count": 50,
      "outputs": [
        {
          "output_type": "stream",
          "name": "stdout",
          "text": [
            "[1, 4, 6, 5.0, 8, 'pwskills', 30]\n"
          ]
        }
      ]
    },
    {
      "cell_type": "code",
      "source": [
        "#  Write a program that checks if a number is positive, negative, or zero\n",
        "a = int(input(\"Enter a number : \"));\n",
        "\n",
        "if (a>0):\n",
        "  print(\"positive number\")\n",
        "elif (a<0):\n",
        "  print(\"negative number\")\n",
        "else:\n",
        "  print(\"zero\")"
      ],
      "metadata": {
        "colab": {
          "base_uri": "https://localhost:8080/"
        },
        "id": "JbT_hR0KzbmR",
        "outputId": "5ca5670c-a7d0-4fd5-ea35-a5945f58d548"
      },
      "execution_count": 53,
      "outputs": [
        {
          "output_type": "stream",
          "name": "stdout",
          "text": [
            "Enter a number : -55\n",
            "negative number\n"
          ]
        }
      ]
    },
    {
      "cell_type": "code",
      "source": [
        "# Write a for loop to print numbers from 1 to 10.\n",
        "\n",
        "for i in range(1,11):\n",
        "    print(i)"
      ],
      "metadata": {
        "colab": {
          "base_uri": "https://localhost:8080/"
        },
        "id": "WW7GlpzV00r2",
        "outputId": "f412b128-4a6c-4580-f5c5-b56744f5988e"
      },
      "execution_count": 57,
      "outputs": [
        {
          "output_type": "stream",
          "name": "stdout",
          "text": [
            "1\n",
            "2\n",
            "3\n",
            "4\n",
            "5\n",
            "6\n",
            "7\n",
            "8\n",
            "9\n",
            "10\n"
          ]
        }
      ]
    },
    {
      "cell_type": "code",
      "source": [
        "# Write a Python program to find the sum of all even numbers between 1 and 50.\n",
        "sum = 0;\n",
        "for i in range(1,51):\n",
        "  if (i%2==0):\n",
        "    sum = sum +i\n",
        "    print(sum)\n",
        "\n",
        ""
      ],
      "metadata": {
        "colab": {
          "base_uri": "https://localhost:8080/"
        },
        "id": "doMbtT7V1fQ0",
        "outputId": "5ebf32c7-56d0-40f1-aa3d-95b026a59b38"
      },
      "execution_count": 61,
      "outputs": [
        {
          "output_type": "stream",
          "name": "stdout",
          "text": [
            "2\n",
            "6\n",
            "12\n",
            "20\n",
            "30\n",
            "42\n",
            "56\n",
            "72\n",
            "90\n",
            "110\n",
            "132\n",
            "156\n",
            "182\n",
            "210\n",
            "240\n",
            "272\n",
            "306\n",
            "342\n",
            "380\n",
            "420\n",
            "462\n",
            "506\n",
            "552\n",
            "600\n",
            "650\n"
          ]
        }
      ]
    },
    {
      "cell_type": "code",
      "source": [
        "# Write a program to reverse a string using a while loop\n",
        "\n",
        "\n",
        "\n",
        "s = \"Girish kumar\"\n",
        "# Initialize an empty string to hold reversed result\n",
        "rev = \"\"\n",
        "for i in s:\n",
        "    rev = i + rev\n",
        "print(rev)"
      ],
      "metadata": {
        "colab": {
          "base_uri": "https://localhost:8080/"
        },
        "id": "tC5uUkKz5bCa",
        "outputId": "85017437-ece9-4dda-9572-5025dcc3e2f4"
      },
      "execution_count": 66,
      "outputs": [
        {
          "output_type": "stream",
          "name": "stdout",
          "text": [
            "ramuk hsiriG\n"
          ]
        }
      ]
    },
    {
      "cell_type": "code",
      "source": [
        "# Write a Python program to calculate the factorial of a number provided by the user using a while loop.\n",
        "n = 6\n",
        "fact = 1\n",
        "for i in range(1, n + 1):\n",
        "    fact *= i\n",
        "print(fact)"
      ],
      "metadata": {
        "colab": {
          "base_uri": "https://localhost:8080/"
        },
        "id": "BiC-0f6u6CBp",
        "outputId": "dda4ea30-d265-4bff-bed6-26f4e00fe2b9"
      },
      "execution_count": 67,
      "outputs": [
        {
          "output_type": "stream",
          "name": "stdout",
          "text": [
            "720\n"
          ]
        }
      ]
    },
    {
      "cell_type": "code",
      "source": [],
      "metadata": {
        "id": "znvJM7iV64vJ"
      },
      "execution_count": null,
      "outputs": []
    }
  ]
}