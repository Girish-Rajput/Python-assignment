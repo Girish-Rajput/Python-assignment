{
  "nbformat": 4,
  "nbformat_minor": 0,
  "metadata": {
    "colab": {
      "provenance": []
    },
    "kernelspec": {
      "name": "python3",
      "display_name": "Python 3"
    },
    "language_info": {
      "name": "python"
    }
  },
  "cells": [
    {
      "cell_type": "markdown",
      "source": [
        "\n",
        "\n",
        "# 1. What are data structures, and why are they important?\n",
        "\n",
        "- Data structures are ways of organizing and storing data so that they can be accessed and modified efficiently.\n",
        "They are important because they help in managing large amounts of data, optimize processing time, and improve code clarity.\n",
        "Examples: Lists, Tuples, Dictionaries, Sets, etc.\n",
        "\n",
        "\n",
        "# 2. Explain the difference between mutable and immutable data types with examples\n",
        "\n",
        "- Mutable data types can be changed after creation (e.g., Lists, Dictionaries, Sets).\n",
        "Immutable data types cannot be changed once created (e.g., Tuples, Strings, Integers).\n",
        "\n",
        "Examples:\n",
        "Mutable: my_list = [1, 2, 3]; my_list[0] = 10  # Valid\n",
        "Immutable: my_tuple = (1, 2, 3); my_tuple[0] = 10  # Error\n",
        "\n",
        "\n",
        "# 3. What are the main differences between lists and tuples in Python?\n",
        "\n",
        "- Lists are mutable, tuples are immutable.\n",
        "- Lists use more memory than tuples.\n",
        "- Tuples can be used as dictionary keys; lists cannot.\n",
        "- Tuples are generally faster than lists for iteration.\n",
        "\n",
        "\n",
        "# 4. Describe how dictionaries store data\n",
        "\n",
        "- Dictionaries store data as key-value pairs.\n",
        "Each key must be unique and hashable.\n",
        "Example: my_dict = {\"name\": \"Alice\", \"age\": 30}\n",
        "\n",
        "\n",
        "# 5. Why might you use a set instead of a list in Python?\n",
        "\n",
        "- Sets are used when you need to store unique elements and perform operations like union, intersection, and difference efficiently.\n",
        "They are faster for membership testing than lists.\n",
        "\n",
        "\n",
        "# 6. What is a string in Python, and how is it different from a list?\n",
        "\n",
        "- A string is an immutable sequence of characters.\n",
        "A list is a mutable sequence of elements that can be of different types.\n",
        "Example:\n",
        "string = \"hello\"\n",
        "list_ = ['h', 'e', 'l', 'l', 'o']\n",
        "\n",
        "\n",
        "# 7. How do tuples ensure data integrity in Python?\n",
        "\n",
        "- Tuples are immutable, which means once created, their contents cannot be altered.\n",
        "This property makes them reliable for storing data that should not change, thus ensuring integrity.\n",
        "\n",
        "\n",
        "# 8. What is a hash table, and how does it relate to dictionaries in Python?\n",
        "\n",
        "- A hash table is a data structure that maps keys to values using a hash function.\n",
        "Python dictionaries are implemented as hash tables.\n",
        "\n",
        "\n",
        "# 9. Can lists contain different data types in Python?\n",
        "\n",
        "- Yes, lists can contain elements of different data types.\n",
        "Example: my_list = [1, \"two\", 3.0, True]\n",
        "\n",
        "\n",
        "# 10. Explain why strings are immutable in Python\n",
        "\n",
        "- Strings are immutable to enhance performance and security.\n",
        "Immutability allows strings to be cached and reused internally, and prevents accidental changes.\n",
        "\n",
        "\n",
        "# 11. What advantages do dictionaries offer over lists for certain tasks?\n",
        "\n",
        "- Faster lookup using keys.\n",
        "- Better for structured data representation.\n",
        "- More readable when accessing elements by name (e.g., user[\"name\"] instead of user[0]).\n",
        "\n",
        "\n",
        "# 12. Describe a scenario where using a tuple would be preferable over a list\n",
        "\n",
        "- When you want to ensure data cannot be changed, such as storing GPS coordinates or constant configurations.\n",
        "Example: location = (40.7128, -74.0060)\n",
        "\n",
        "\n",
        "# 13. How do sets handle duplicate values in Python?\n",
        "\n",
        "- Sets automatically remove duplicate values.\n",
        "Example: set([1, 2, 2, 3]) results in {1, 2, 3}\n",
        "\n",
        "\n",
        "# 14. How does the “in” keyword work differently for lists and dictionaries?\n",
        "\n",
        "- For lists, `in` checks if a value is present in the list.\n",
        "- For dictionaries, `in` checks if a key is present (not value).\n",
        "Example:\n",
        "'a' in ['a', 'b']       → True\n",
        "'name' in {'name': 'Bob'} → True\n",
        "\n",
        "\n",
        "# 15. Can you modify the elements of a tuple? Explain why or why not\n",
        "\n",
        "- No, tuples are immutable.\n",
        "Once created, their elements cannot be changed or replaced.\n",
        "\n",
        "\n",
        "# 16. What is a nested dictionary, and give an example of its use case\n",
        "\n",
        "- A nested dictionary is a dictionary inside another dictionary.\n",
        "Use case: Representing structured data like a JSON object.\n",
        "Example:\n",
        "student = {\n",
        "    \"name\": \"Alice\",\n",
        "    \"grades\": {\"math\": 90, \"science\": 85}\n",
        "}\n",
        "\n",
        "\n",
        "# 17. Describe the time complexity of accessing elements in a dictionary\n",
        "\n",
        "- Accessing elements in a dictionary has average-case time complexity of O(1) due to hash table implementation.\n",
        "\n",
        "\n",
        "# 18. In what situations are lists preferred over dictionaries?\n",
        "\n",
        "- When order matters.\n",
        "- When you need to store simple sequences of items.\n",
        "- When keys are not needed, just values.\n",
        "\n",
        "\n",
        "# 19. Why are dictionaries considered unordered, and how does that affect data retrieval?\n",
        "\n",
        "- Prior to Python 3.7, dictionaries were unordered.\n",
        "From Python 3.7 onwards, dictionaries preserve insertion order, but conceptually they are still key-based mappings rather than position-based.\n",
        "This affects retrieval since access is by key, not index.\n",
        "\n",
        "\n",
        "# 20. Explain the difference between a list and a dictionary in terms of data retrieval\n",
        "\n",
        "- Lists retrieve items by index, which is an integer position.\n",
        "Dictionaries retrieve items by key, which can be any hashable type.\n",
        "\n"
      ],
      "metadata": {
        "id": "US5PfXv_1mq1"
      }
    },
    {
      "cell_type": "code",
      "source": [
        "#  Write a code to create a string with your name and print it\n",
        "\n",
        "string1 = \"Girish kumar\"\n",
        "print(string1)"
      ],
      "metadata": {
        "colab": {
          "base_uri": "https://localhost:8080/"
        },
        "id": "3Oxdkzap4kFs",
        "outputId": "3389d861-509f-4c1e-f43d-39d16a484696"
      },
      "execution_count": 1,
      "outputs": [
        {
          "output_type": "stream",
          "name": "stdout",
          "text": [
            "Girish kumar\n"
          ]
        }
      ]
    },
    {
      "cell_type": "code",
      "execution_count": 2,
      "metadata": {
        "colab": {
          "base_uri": "https://localhost:8080/"
        },
        "id": "oKWb432G1lG1",
        "outputId": "657a530b-f613-49e2-de04-cd1540141818"
      },
      "outputs": [
        {
          "output_type": "execute_result",
          "data": {
            "text/plain": [
              "11"
            ]
          },
          "metadata": {},
          "execution_count": 2
        }
      ],
      "source": [
        "#  Write a code to find the length of the string \"Hello World\"\n",
        "string = \"Hello World\"\n",
        "len(string)"
      ]
    },
    {
      "cell_type": "code",
      "source": [
        "# write a code to slice the first 3 characters from the string \"Python Programming\"\n",
        "string = \"Python Programming\"\n",
        "string[:3]"
      ],
      "metadata": {
        "colab": {
          "base_uri": "https://localhost:8080/",
          "height": 35
        },
        "id": "4-cx9apC5Tdy",
        "outputId": "df975d45-6dde-4cb0-9c14-6728ec51a437"
      },
      "execution_count": 3,
      "outputs": [
        {
          "output_type": "execute_result",
          "data": {
            "text/plain": [
              "'Pyt'"
            ],
            "application/vnd.google.colaboratory.intrinsic+json": {
              "type": "string"
            }
          },
          "metadata": {},
          "execution_count": 3
        }
      ]
    },
    {
      "cell_type": "code",
      "source": [
        "#  Write a code to convert the string \"hello\" to uppercase\n",
        "string = \"hello\"\n",
        "string.upper()"
      ],
      "metadata": {
        "colab": {
          "base_uri": "https://localhost:8080/",
          "height": 35
        },
        "id": "_4vPCygZ5l_h",
        "outputId": "c3a933c8-f137-4ccf-9444-3ed7258e0992"
      },
      "execution_count": 4,
      "outputs": [
        {
          "output_type": "execute_result",
          "data": {
            "text/plain": [
              "'HELLO'"
            ],
            "application/vnd.google.colaboratory.intrinsic+json": {
              "type": "string"
            }
          },
          "metadata": {},
          "execution_count": 4
        }
      ]
    },
    {
      "cell_type": "code",
      "source": [
        "# Write a code to replace the word \"apple\" with \"orange\" in the string \"I like apple\"\n",
        "choice = \"I like apple\"\n",
        "choice.replace(\"apple\",\"orange\")\n",
        "\n",
        "\n"
      ],
      "metadata": {
        "colab": {
          "base_uri": "https://localhost:8080/",
          "height": 35
        },
        "id": "wC-mN5aV59YN",
        "outputId": "e5e80109-dd5e-413f-a01c-e2dde4225a72"
      },
      "execution_count": 5,
      "outputs": [
        {
          "output_type": "execute_result",
          "data": {
            "text/plain": [
              "'I like orange'"
            ],
            "application/vnd.google.colaboratory.intrinsic+json": {
              "type": "string"
            }
          },
          "metadata": {},
          "execution_count": 5
        }
      ]
    },
    {
      "cell_type": "code",
      "source": [
        "# Write a code to create a list with numbers 1 to 5 and print it\n",
        "lis = [1,2,3,4,5]\n",
        "print(lis)"
      ],
      "metadata": {
        "colab": {
          "base_uri": "https://localhost:8080/"
        },
        "id": "_4_lOWVS7Fzw",
        "outputId": "eb31a92f-1da6-4407-ee3f-e464c4ada74e"
      },
      "execution_count": 7,
      "outputs": [
        {
          "output_type": "stream",
          "name": "stdout",
          "text": [
            "[1, 2, 3, 4, 5]\n"
          ]
        }
      ]
    },
    {
      "cell_type": "code",
      "source": [
        "# Write a code to append the number 10 to the list [1, 2, 3, 4]\n",
        "lis = [1,2,3,4]\n",
        "lis.append(10)\n",
        "lis"
      ],
      "metadata": {
        "colab": {
          "base_uri": "https://localhost:8080/"
        },
        "id": "M905mHbS7UY3",
        "outputId": "847a2ffd-666e-4263-9c1c-61a540dd83a2"
      },
      "execution_count": 9,
      "outputs": [
        {
          "output_type": "execute_result",
          "data": {
            "text/plain": [
              "[1, 2, 3, 4, 10]"
            ]
          },
          "metadata": {},
          "execution_count": 9
        }
      ]
    },
    {
      "cell_type": "code",
      "source": [
        "# Write a code to remove the number 3 from the list [1, 2, 3, 4, 5]\n",
        "lis = [1,2,3,4,5]\n",
        "lis.remove(3)\n",
        "lis"
      ],
      "metadata": {
        "colab": {
          "base_uri": "https://localhost:8080/"
        },
        "id": "WujhSW957vlV",
        "outputId": "fa545582-3aa5-4c0f-d49a-846c4aa031e1"
      },
      "execution_count": 10,
      "outputs": [
        {
          "output_type": "execute_result",
          "data": {
            "text/plain": [
              "[1, 2, 4, 5]"
            ]
          },
          "metadata": {},
          "execution_count": 10
        }
      ]
    },
    {
      "cell_type": "code",
      "source": [
        "#  Write a code to access the second element in the list ['a', 'b', 'c', 'd']\n",
        "lis = [\"a\",\"b\",\"c\",\"d\"]\n",
        "lis[1]"
      ],
      "metadata": {
        "colab": {
          "base_uri": "https://localhost:8080/",
          "height": 35
        },
        "id": "LTfbrQfe8EtG",
        "outputId": "2151525a-a8dc-40fc-be00-526144661f5c"
      },
      "execution_count": 11,
      "outputs": [
        {
          "output_type": "execute_result",
          "data": {
            "text/plain": [
              "'b'"
            ],
            "application/vnd.google.colaboratory.intrinsic+json": {
              "type": "string"
            }
          },
          "metadata": {},
          "execution_count": 11
        }
      ]
    },
    {
      "cell_type": "code",
      "source": [
        "# Write a code to reverse the list [10, 20, 30, 40, 50].\n",
        "lis = [10,20,30,40,50]\n",
        "lis.reverse()\n",
        "lis"
      ],
      "metadata": {
        "colab": {
          "base_uri": "https://localhost:8080/"
        },
        "id": "1XlQodrU8WHq",
        "outputId": "7eb16088-6f60-4fe2-b9dc-d4e567556d6a"
      },
      "execution_count": 12,
      "outputs": [
        {
          "output_type": "execute_result",
          "data": {
            "text/plain": [
              "[50, 40, 30, 20, 10]"
            ]
          },
          "metadata": {},
          "execution_count": 12
        }
      ]
    },
    {
      "cell_type": "code",
      "source": [
        "# Write a code to create a tuple with the elements 100, 200, 300 and print it\n",
        "tup = (100,200,300)\n",
        "tup"
      ],
      "metadata": {
        "colab": {
          "base_uri": "https://localhost:8080/"
        },
        "id": "PqqqEree8qIN",
        "outputId": "3ec323a8-4e23-4c9a-c6d6-53458777b111"
      },
      "execution_count": 1,
      "outputs": [
        {
          "output_type": "execute_result",
          "data": {
            "text/plain": [
              "(100, 200, 300)"
            ]
          },
          "metadata": {},
          "execution_count": 1
        }
      ]
    },
    {
      "cell_type": "code",
      "source": [
        "# Write a code to access the second-to-last element of the tuple ('red', 'green', 'blue', 'yellow').\n",
        "tup = (\"red\", \"green\",\"blue\",\"yellow\")\n",
        "tup[1]"
      ],
      "metadata": {
        "colab": {
          "base_uri": "https://localhost:8080/",
          "height": 35
        },
        "id": "3azbZxZDOt4I",
        "outputId": "0496c89f-a5a7-4467-cb99-05fc4bc1bd06"
      },
      "execution_count": 2,
      "outputs": [
        {
          "output_type": "execute_result",
          "data": {
            "text/plain": [
              "'green'"
            ],
            "application/vnd.google.colaboratory.intrinsic+json": {
              "type": "string"
            }
          },
          "metadata": {},
          "execution_count": 2
        }
      ]
    },
    {
      "cell_type": "code",
      "source": [
        "# Write a code to find the index of the element \"cat\" in the tuple ('dog', 'cat', 'rabbit').\n",
        "tup = (\"dog\",\"cat\",\"rabbit\")\n",
        "tup.index(\"cat\")"
      ],
      "metadata": {
        "colab": {
          "base_uri": "https://localhost:8080/"
        },
        "id": "kp06_g2yPLOI",
        "outputId": "92335718-ab65-4658-97a5-75e069e5a284"
      },
      "execution_count": 4,
      "outputs": [
        {
          "output_type": "execute_result",
          "data": {
            "text/plain": [
              "1"
            ]
          },
          "metadata": {},
          "execution_count": 4
        }
      ]
    },
    {
      "cell_type": "code",
      "source": [
        "# . Write a code to create a tuple containing three different fruits and check if \"kiwi\" is in it.\n",
        "tup = (\"apple\", \"jackfruit\", \"kiwi\")\n",
        "if \"kiwi\" in tup:\n",
        "  print(\"yes it is\")\n",
        "else:\n",
        "  print(\"not present\")"
      ],
      "metadata": {
        "colab": {
          "base_uri": "https://localhost:8080/"
        },
        "id": "O6s4dmtqQHTe",
        "outputId": "aaf0105d-4be8-4ed1-bdbd-652a89503b85"
      },
      "execution_count": 8,
      "outputs": [
        {
          "output_type": "stream",
          "name": "stdout",
          "text": [
            "yes it is\n"
          ]
        }
      ]
    },
    {
      "cell_type": "code",
      "source": [
        "# Write a code to create a set with the elements 'a', 'b', 'c' and print it\n",
        "set1 = {\"a\", \"b\",\"c\"}\n",
        "print(set1)"
      ],
      "metadata": {
        "colab": {
          "base_uri": "https://localhost:8080/"
        },
        "id": "souFFKqdQb9G",
        "outputId": "7e3140a9-f7a0-4f06-c301-767cf0d8c041"
      },
      "execution_count": 10,
      "outputs": [
        {
          "output_type": "stream",
          "name": "stdout",
          "text": [
            "{'c', 'b', 'a'}\n"
          ]
        }
      ]
    },
    {
      "cell_type": "code",
      "source": [
        "# Write a code to clear all elements from the set {1, 2, 3, 4, 5}.\n",
        "set1 = {1,2,3,4,5}\n",
        "set1.clear()"
      ],
      "metadata": {
        "id": "UJKyDm-URIiC"
      },
      "execution_count": 12,
      "outputs": []
    },
    {
      "cell_type": "code",
      "source": [
        "#  Write a code to remove the element 4 from the set {1, 2, 3, 4}\n",
        "set1 = {1,2,3,4}\n",
        "set1.remove(4)\n",
        "set1"
      ],
      "metadata": {
        "colab": {
          "base_uri": "https://localhost:8080/"
        },
        "id": "DaNCMaKoReHU",
        "outputId": "80eda8c4-2161-4e44-dc52-a4a2df989a6d"
      },
      "execution_count": 14,
      "outputs": [
        {
          "output_type": "execute_result",
          "data": {
            "text/plain": [
              "{1, 2, 3}"
            ]
          },
          "metadata": {},
          "execution_count": 14
        }
      ]
    },
    {
      "cell_type": "code",
      "source": [
        "# Write a code to find the union of two sets {1, 2, 3} and {3, 4, 5}.\n",
        "set1 = {1,2,3}\n",
        "set2 = {3,4,5}\n",
        "set3 = set1 | set2\n",
        "set3"
      ],
      "metadata": {
        "colab": {
          "base_uri": "https://localhost:8080/"
        },
        "id": "2uKT-nKMRycS",
        "outputId": "0d73b4a6-a992-4206-dd66-1069642b9ab8"
      },
      "execution_count": 17,
      "outputs": [
        {
          "output_type": "execute_result",
          "data": {
            "text/plain": [
              "{1, 2, 3, 4, 5}"
            ]
          },
          "metadata": {},
          "execution_count": 17
        }
      ]
    },
    {
      "cell_type": "code",
      "source": [
        "# Write a code to find the intersection of two sets {1, 2, 3} and {2, 3, 4}.\n",
        "set1 = {1,2,3}\n",
        "set2 = {3,4,5}\n",
        "set3 = set1 & set2\n",
        "set3"
      ],
      "metadata": {
        "colab": {
          "base_uri": "https://localhost:8080/"
        },
        "id": "0qUWtrxYSQPV",
        "outputId": "7567b165-7e22-4579-fd1c-51ae5cff0033"
      },
      "execution_count": 19,
      "outputs": [
        {
          "output_type": "execute_result",
          "data": {
            "text/plain": [
              "{3}"
            ]
          },
          "metadata": {},
          "execution_count": 19
        }
      ]
    },
    {
      "cell_type": "code",
      "source": [
        "# Write a code to create a dictionary with the keys \"name\", \"age\", and \"city\", and print it\n",
        "dict1 = {\"name\":\"Girish kumar\",\"age\":21, \"city\":\"Bulandshahr\"}\n",
        "dict1"
      ],
      "metadata": {
        "colab": {
          "base_uri": "https://localhost:8080/"
        },
        "id": "izaeC6oaSftE",
        "outputId": "2da6a0ad-bba0-4636-f9c5-ec1be973e483"
      },
      "execution_count": 20,
      "outputs": [
        {
          "output_type": "execute_result",
          "data": {
            "text/plain": [
              "{'name': 'Girish kumar', 'age': 21, 'city': 'Bulandshahr'}"
            ]
          },
          "metadata": {},
          "execution_count": 20
        }
      ]
    },
    {
      "cell_type": "code",
      "source": [
        "# Write a code to add a new key-value pair \"country\": \"USA\" to the dictionary {'name': 'John', 'age': 25}.\n",
        "dict1 = {\"name\":\"john\", 'age':25}\n",
        "dict1[\"country\"] =\"USA\"\n",
        "dict1"
      ],
      "metadata": {
        "colab": {
          "base_uri": "https://localhost:8080/"
        },
        "id": "YaCvKig0S_1T",
        "outputId": "0f0a2d2b-7ffc-4082-c39b-889fa9a977d2"
      },
      "execution_count": 3,
      "outputs": [
        {
          "output_type": "execute_result",
          "data": {
            "text/plain": [
              "{'name': 'john', 'age': 25, 'country': 'USA'}"
            ]
          },
          "metadata": {},
          "execution_count": 3
        }
      ]
    },
    {
      "cell_type": "code",
      "source": [
        "# Write a code to access the value associated with the key \"name\" in the dictionary {'name': 'Alice', 'age': 30}.\n",
        "dict1 = {'name': 'Alice', 'age': 30}\n",
        "dict1[\"name\"]"
      ],
      "metadata": {
        "colab": {
          "base_uri": "https://localhost:8080/",
          "height": 35
        },
        "id": "xOQ0xYbRThwt",
        "outputId": "68463ea0-9dd4-42d9-f5ab-0437b4246107"
      },
      "execution_count": 5,
      "outputs": [
        {
          "output_type": "execute_result",
          "data": {
            "text/plain": [
              "'Alice'"
            ],
            "application/vnd.google.colaboratory.intrinsic+json": {
              "type": "string"
            }
          },
          "metadata": {},
          "execution_count": 5
        }
      ]
    },
    {
      "cell_type": "code",
      "source": [
        "# Write a code to remove the key \"age\" from the dictionary {'name': 'Bob', 'age': 22, 'city': 'New York'}.\n",
        "dict1 = {'name': 'Bob', 'age': 22, 'city': 'New York'}\n",
        "dict1.pop(\"age\")\n"
      ],
      "metadata": {
        "colab": {
          "base_uri": "https://localhost:8080/"
        },
        "id": "AXJGD_hatx9V",
        "outputId": "f1077111-1842-45b3-ef4f-5e1ad70cdf48"
      },
      "execution_count": 9,
      "outputs": [
        {
          "output_type": "execute_result",
          "data": {
            "text/plain": [
              "22"
            ]
          },
          "metadata": {},
          "execution_count": 9
        }
      ]
    },
    {
      "cell_type": "code",
      "source": [
        "# Write a code to check if the key \"city\" exists in the dictionary {'name': 'Alice', 'city': 'Paris'}.\n",
        "dict1 = {'name': 'Alice', 'city': 'Paris'}\n",
        "if \"city\" in dict1:\n",
        "  print(\"yes it is!\")\n",
        "else:\n",
        "  print(\"no its not\")\n"
      ],
      "metadata": {
        "colab": {
          "base_uri": "https://localhost:8080/"
        },
        "id": "HsnEnizEuCmX",
        "outputId": "76e101b4-e17e-4765-eea9-435ec92d0b01"
      },
      "execution_count": 10,
      "outputs": [
        {
          "output_type": "stream",
          "name": "stdout",
          "text": [
            "yes it is!\n"
          ]
        }
      ]
    },
    {
      "cell_type": "code",
      "source": [
        "# Write a code to create a list, a tuple, and a dictionary, and print them all.\n",
        "list1  = [(\"a\", 1), (\"b\", 2), (\"c\", 3)]\n",
        "list2 = list(list1)\n",
        "list2\n",
        "\n",
        "\n"
      ],
      "metadata": {
        "colab": {
          "base_uri": "https://localhost:8080/"
        },
        "id": "OtTugTD0xZcJ",
        "outputId": "94c0c12d-4040-41e2-f75e-c061191f60ea"
      },
      "execution_count": 14,
      "outputs": [
        {
          "output_type": "execute_result",
          "data": {
            "text/plain": [
              "[('a', 1), ('b', 2), ('c', 3)]"
            ]
          },
          "metadata": {},
          "execution_count": 14
        }
      ]
    },
    {
      "cell_type": "code",
      "source": [
        "tup = tuple(list1)\n",
        "tup"
      ],
      "metadata": {
        "colab": {
          "base_uri": "https://localhost:8080/"
        },
        "id": "L0tZc7w4yXSp",
        "outputId": "e816b11b-fbfe-4bcc-a0b8-fa3a95917541"
      },
      "execution_count": 13,
      "outputs": [
        {
          "output_type": "execute_result",
          "data": {
            "text/plain": [
              "(('a', 1), ('b', 2), ('c', 3))"
            ]
          },
          "metadata": {},
          "execution_count": 13
        }
      ]
    },
    {
      "cell_type": "code",
      "source": [
        "dict1 = dict(list1)\n",
        "dict1"
      ],
      "metadata": {
        "colab": {
          "base_uri": "https://localhost:8080/"
        },
        "id": "iTOu_HDByqox",
        "outputId": "d87e4e36-9435-461e-9cee-a85fadc3205d"
      },
      "execution_count": 15,
      "outputs": [
        {
          "output_type": "execute_result",
          "data": {
            "text/plain": [
              "{'a': 1, 'b': 2, 'c': 3}"
            ]
          },
          "metadata": {},
          "execution_count": 15
        }
      ]
    },
    {
      "cell_type": "code",
      "source": [
        "\"\"\"Write a code to create a list of 5 random numbers between 1 and 100, sort it in ascending order, and print the\n",
        "result.(replaced)\"\"\"\n",
        "\n",
        "list1 = [23,46,7,84,78,12]\n",
        "list1.sort()\n",
        "list1\n"
      ],
      "metadata": {
        "colab": {
          "base_uri": "https://localhost:8080/"
        },
        "id": "KEawLC4qy6_u",
        "outputId": "322c313e-44bb-4de4-db93-12a5e5cdbca8"
      },
      "execution_count": 17,
      "outputs": [
        {
          "output_type": "execute_result",
          "data": {
            "text/plain": [
              "[7, 12, 23, 46, 78, 84]"
            ]
          },
          "metadata": {},
          "execution_count": 17
        }
      ]
    },
    {
      "cell_type": "code",
      "source": [
        "# Write a code to create a list with strings and print the element at the third index.\n",
        "list1 = [\"girish\",\"delhi\", \"rajesh\",\"bulandshahr\",\"keshav\",\"ghaziabad\"]\n",
        "list1[3]"
      ],
      "metadata": {
        "colab": {
          "base_uri": "https://localhost:8080/",
          "height": 35
        },
        "id": "tq8maXdCz0Qm",
        "outputId": "1c88d3ae-6735-4404-de63-cb642e0869d4"
      },
      "execution_count": 19,
      "outputs": [
        {
          "output_type": "execute_result",
          "data": {
            "text/plain": [
              "'bulandshahr'"
            ],
            "application/vnd.google.colaboratory.intrinsic+json": {
              "type": "string"
            }
          },
          "metadata": {},
          "execution_count": 19
        }
      ]
    },
    {
      "cell_type": "code",
      "source": [],
      "metadata": {
        "id": "Gq8bkwuS0nOe"
      },
      "execution_count": null,
      "outputs": []
    },
    {
      "cell_type": "code",
      "source": [
        "# Write a code to combine two dictionaries into one and print the result.\n",
        "Detail = {\"name\":\"Girish\",\"age\":21,\"roll_no\":64}\n",
        "Edu = {\"b.tech\":\"3rd yr\", \"section\":\"A\",\"batch\":2022-2026}\n",
        "\n",
        "Detail.update(Edu)\n",
        "print(Detail)"
      ],
      "metadata": {
        "colab": {
          "base_uri": "https://localhost:8080/"
        },
        "id": "rgHXMOQ20Y8e",
        "outputId": "9fc4e2bf-b033-4035-a670-1f528a8ae1fb"
      },
      "execution_count": 24,
      "outputs": [
        {
          "output_type": "stream",
          "name": "stdout",
          "text": [
            "{'name': 'Girish', 'age': 21, 'roll_no': 64, 'b.tech': '3rd yr', 'section': 'A', 'batch': -4}\n"
          ]
        }
      ]
    },
    {
      "cell_type": "code",
      "source": [
        "# Write a code to convert a list of strings into a set.\n",
        "list1 = [\"Girish\",\"naresh\",\"akhilesh\",\"keshav\",\"mukesh\"]\n",
        "set1 = set(list1)\n",
        "set1"
      ],
      "metadata": {
        "colab": {
          "base_uri": "https://localhost:8080/"
        },
        "id": "F64VAUU11f-z",
        "outputId": "4bbfba5b-3710-4132-cb54-2e6e8828834d"
      },
      "execution_count": 25,
      "outputs": [
        {
          "output_type": "execute_result",
          "data": {
            "text/plain": [
              "{'Girish', 'akhilesh', 'keshav', 'mukesh', 'naresh'}"
            ]
          },
          "metadata": {},
          "execution_count": 25
        }
      ]
    },
    {
      "cell_type": "code",
      "source": [],
      "metadata": {
        "id": "ayJUgBPP2yxt"
      },
      "execution_count": null,
      "outputs": []
    }
  ]
}
